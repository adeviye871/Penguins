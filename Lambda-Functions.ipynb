{
 "cells": [
  {
   "cell_type": "code",
   "execution_count": 4,
   "metadata": {},
   "outputs": [],
   "source": [
    "iterable=\"clarusway\"\n"
   ]
  },
  {
   "cell_type": "code",
   "execution_count": 5,
   "metadata": {},
   "outputs": [
    {
     "data": {
      "text/plain": [
       "'yawsuralc'"
      ]
     },
     "execution_count": 5,
     "metadata": {},
     "output_type": "execute_result"
    }
   ],
   "source": [
    "reverser = lambda x : x[::-1]\n",
    "reverser(iterable)"
   ]
  },
  {
   "cell_type": "code",
   "execution_count": 9,
   "metadata": {},
   "outputs": [
    {
     "data": {
      "text/plain": [
       "'odd'"
      ]
     },
     "execution_count": 9,
     "metadata": {},
     "output_type": "execute_result"
    }
   ],
   "source": [
    "finder = lambda x : \"odd\" if x % 2 != 0 else \"even\"\n",
    "finder(5)"
   ]
  },
  {
   "cell_type": "code",
   "execution_count": 11,
   "metadata": {},
   "outputs": [
    {
     "name": "stdout",
     "output_type": "stream",
     "text": [
      "21 5 4\n"
     ]
    }
   ],
   "source": [
    "kelimeler = [\"dkasjfngajksdfnbajhsd\",\"amhme\",\"emre\"]\n",
    "uzunluk = map(len,kelimeler)\n",
    "print(*uzunluk)"
   ]
  },
  {
   "cell_type": "code",
   "execution_count": null,
   "metadata": {},
   "outputs": [],
   "source": [
    "lenght = []\n",
    "for i in kelimeler:\n",
    "    lenght.append(len(i))\n",
    "\n",
    "    print(len(i))\n",
    "    print(lenght)"
   ]
  },
  {
   "cell_type": "code",
   "execution_count": 25,
   "metadata": {},
   "outputs": [
    {
     "ename": "TypeError",
     "evalue": "map() must have at least two arguments.",
     "output_type": "error",
     "traceback": [
      "\u001b[1;31m---------------------------------------------------------------------------\u001b[0m",
      "\u001b[1;31mTypeError\u001b[0m                                 Traceback (most recent call last)",
      "\u001b[1;32mc:\\Users\\emret\\Desktop\\Code notes\\Python_Pree-classs\\Lessons\\Lambda-Functions.ipynb Cell 6'\u001b[0m in \u001b[0;36m<cell line: 4>\u001b[1;34m()\u001b[0m\n\u001b[0;32m      <a href='vscode-notebook-cell:/c%3A/Users/emret/Desktop/Code%20notes/Python_Pree-classs/Lessons/Lambda-Functions.ipynb#ch0000008?line=1'>2</a>\u001b[0m \u001b[39mdef\u001b[39;00m \u001b[39msqr\u001b[39m(x):\n\u001b[0;32m      <a href='vscode-notebook-cell:/c%3A/Users/emret/Desktop/Code%20notes/Python_Pree-classs/Lessons/Lambda-Functions.ipynb#ch0000008?line=2'>3</a>\u001b[0m     \u001b[39mreturn\u001b[39;00m x\u001b[39m*\u001b[39mx\n\u001b[1;32m----> <a href='vscode-notebook-cell:/c%3A/Users/emret/Desktop/Code%20notes/Python_Pree-classs/Lessons/Lambda-Functions.ipynb#ch0000008?line=3'>4</a>\u001b[0m \u001b[39mprint\u001b[39m(\u001b[39mlist\u001b[39m(\u001b[39mmap\u001b[39;49m(liste)))\n",
      "\u001b[1;31mTypeError\u001b[0m: map() must have at least two arguments."
     ]
    }
   ],
   "source": [
    "liste=[1,2,3,4,5,6,7,8,9]\n",
    "def sqr(x):\n",
    "    return x*x\n",
    "print(list(map(liste)))"
   ]
  },
  {
   "cell_type": "code",
   "execution_count": 34,
   "metadata": {},
   "outputs": [
    {
     "name": "stdout",
     "output_type": "stream",
     "text": [
      "1.0 2.0 3.0 4.0 5.0 396.0 7.0 48.5 623.5\n"
     ]
    }
   ],
   "source": [
    "num1 = [1,2,3,4,5,6,7,8,9]\n",
    "num2 = [1,2,3,4,5,786,7,89,1238]\n",
    "number =  map(lambda x, y : (x + y )/2,num1,num2)\n",
    "print(*number)"
   ]
  },
  {
   "cell_type": "code",
   "execution_count": 35,
   "metadata": {},
   "outputs": [
    {
     "data": {
      "text/plain": [
       "['i love you', 'you ate much', 'he works hard']"
      ]
     },
     "execution_count": 35,
     "metadata": {},
     "output_type": "execute_result"
    }
   ],
   "source": [
    "words1 = [\"you\", \"much\", \"hard\"]\n",
    "words2 = [\"i\", \"you\", \"he\"]\n",
    "words3 = [\"love\", \"ate\", \"works\"]\n",
    "list(map(lambda x,y,z : y+\" \"+z+\" \"+x,words1,words2,words3))"
   ]
  },
  {
   "cell_type": "code",
   "execution_count": 43,
   "metadata": {},
   "outputs": [],
   "source": [
    "#filter fonction-----\n",
    "\n",
    "first_ten = [1,2,3,4,5,6,7,8,9]\n",
    "odd1 = filter(lambda x : x % 2 != 0, first_ten)\n",
    "odd2 = filter(lambda x : x % 2 == 1, first_ten)\n",
    "odd3 = filter(lambda x :not x % 2 == 0, first_ten)\n",
    "odd4 = filter(lambda x : x % 2 , first_ten)  # burada da sonu tek olan rakamları ayıklayacağı için burdada tekleri dönüdürür\n"
   ]
  },
  {
   "cell_type": "code",
   "execution_count": 41,
   "metadata": {},
   "outputs": [
    {
     "name": "stdout",
     "output_type": "stream",
     "text": [
      "\n"
     ]
    }
   ],
   "source": [
    "print(*odd3)\n",
    "\n"
   ]
  },
  {
   "cell_type": "code",
   "execution_count": 44,
   "metadata": {},
   "outputs": [
    {
     "name": "stdout",
     "output_type": "stream",
     "text": [
      "1 3 5 7 9\n"
     ]
    }
   ],
   "source": [
    "print(*odd4)"
   ]
  },
  {
   "cell_type": "code",
   "execution_count": 49,
   "metadata": {},
   "outputs": [],
   "source": [
    "words = [\"apple\",\"swim\",\"clock\",\"me\",\"kiwi\",\"banana\",\"watermelon\"]\n",
    "\n",
    "çek=filter (lambda x : len(x) < 5,words)"
   ]
  },
  {
   "cell_type": "code",
   "execution_count": null,
   "metadata": {},
   "outputs": [],
   "source": [
    "print(*çek)"
   ]
  },
  {
   "cell_type": "code",
   "execution_count": 56,
   "metadata": {},
   "outputs": [
    {
     "data": {
      "text/plain": [
       "[('a', 'd'),\n",
       " ('h', 'a'),\n",
       " ('m', 'n'),\n",
       " ('e', 'a'),\n",
       " ('t', ','),\n",
       " (',', 'e'),\n",
       " ('b', 'r'),\n",
       " ('e', 'd'),\n",
       " ('r', 'e'),\n",
       " ('k', 'm'),\n",
       " ('a', ','),\n",
       " ('n', 'f'),\n",
       " (',', 'a'),\n",
       " ('c', 'r'),\n",
       " ('a', 'u'),\n",
       " ('n', 'k')]"
      ]
     },
     "execution_count": 56,
     "metadata": {},
     "output_type": "execute_result"
    }
   ],
   "source": [
    "letter1= \"ahmet,berkan,caner\"  #burada split aradaki virügüllerin kaldırılmasını sağlar aynı elemanları siler\n",
    "letter2= \"dana,erdem,faruk\"\n",
    "list(map(lambda x,y :(x,y),letter1,letter2))"
   ]
  },
  {
   "cell_type": "code",
   "execution_count": 60,
   "metadata": {},
   "outputs": [
    {
     "data": {
      "text/plain": [
       "[<zip at 0x134511c2940>,\n",
       " <zip at 0x134511ac900>,\n",
       " <zip at 0x134511ae700>,\n",
       " <zip at 0x134511e6d40>,\n",
       " <zip at 0x134511e4280>,\n",
       " <zip at 0x134511e5380>,\n",
       " <zip at 0x134511df900>,\n",
       " <zip at 0x134511dfe40>,\n",
       " <zip at 0x134511dc080>,\n",
       " <zip at 0x134511c3c40>,\n",
       " <zip at 0x134511de000>,\n",
       " <zip at 0x134511dc480>,\n",
       " <zip at 0x134511dc340>,\n",
       " <zip at 0x134511dc500>,\n",
       " <zip at 0x134511dc180>,\n",
       " <zip at 0x134511dc3c0>]"
      ]
     },
     "execution_count": 60,
     "metadata": {},
     "output_type": "execute_result"
    }
   ],
   "source": [
    "list(zip(letter1, letter2))\n",
    "birleştir = map(zip, letter1,letter2)\n",
    "list(birleştir)"
   ]
  },
  {
   "cell_type": "code",
   "execution_count": null,
   "metadata": {},
   "outputs": [],
   "source": [
    "birleştir = map (zip, letter1,letter2)\n",
    "\n",
    "for i in birleştir:   # map bir object üretir\n",
    "    for j in i:       # zip bir object üretir\n",
    "        print(j)      #bundan dolayı çıktıyı iç içe görmek için for döngüsü yazmak gerekir..."
   ]
  },
  {
   "cell_type": "code",
   "execution_count": 79,
   "metadata": {},
   "outputs": [
    {
     "name": "stdout",
     "output_type": "stream",
     "text": [
      "a e i u ü\n"
     ]
    }
   ],
   "source": [
    "first_ten = [\"a\", \"b\", \"c\", \"d\", \"e\", \"f\", \"g\", \"h\",\"i\", \"j\",\"u\",\"ü\"]\n",
    "\n",
    "Sesli= \"AEOÖUÜIİaeoüuüıi\"\n",
    "\n",
    "test=filter(lambda x : x in Sesli,first_ten)\n",
    "\n",
    "print(*test)"
   ]
  },
  {
   "cell_type": "code",
   "execution_count": 7,
   "metadata": {},
   "outputs": [
    {
     "data": {
      "text/plain": [
       "<filter at 0x24a2c890130>"
      ]
     },
     "execution_count": 7,
     "metadata": {},
     "output_type": "execute_result"
    }
   ],
   "source": [
    "vowel_list=[\"a\", \"b\", \"c\", \"d\", \"e\", \"f\", \"g\", \"h\",\"i\", \"j\",\"u\",\"ü\"]\n",
    "fonks = lambda x: True if x in vowel_list else False\n",
    "vowels = filter(fonks, vowel_list)\n",
    "vowels"
   ]
  },
  {
   "cell_type": "code",
   "execution_count": null,
   "metadata": {},
   "outputs": [],
   "source": [
    "for number in range(1,101):\n",
    "    print(\"FizzBuzz\" if (not number % 3 and not number % 5) else \"Buzz\" if not number % 5 else \"Fizz\" if not number % 3 else number)"
   ]
  },
  {
   "cell_type": "code",
   "execution_count": 80,
   "metadata": {},
   "outputs": [
    {
     "name": "stdout",
     "output_type": "stream",
     "text": [
      "4\n",
      "8\n",
      "16\n"
     ]
    }
   ],
   "source": [
    "def modular_function(n):\n",
    "    return lambda x: x ** n\n",
    "    \n",
    "power_of_2 = modular_function(2)  # first sub-function derived from def\n",
    "power_of_3 = modular_function(3)  # second sub-function derived from def\n",
    "power_of_4 = modular_function(4)  # third sub-function derived from def\n",
    "\n",
    "print(power_of_2(2))  # 2 to the power of 2\n",
    "print(power_of_3(2))  # 2 to the power of 3\n",
    "print(power_of_4(2))  # 2 to the power of 4"
   ]
  },
  {
   "cell_type": "code",
   "execution_count": 88,
   "metadata": {},
   "outputs": [
    {
     "name": "stdout",
     "output_type": "stream",
     "text": [
      "625\n"
     ]
    }
   ],
   "source": [
    "print(power_of_4(5))"
   ]
  },
  {
   "cell_type": "code",
   "execution_count": 90,
   "metadata": {},
   "outputs": [
    {
     "name": "stdout",
     "output_type": "stream",
     "text": [
      "<function modular_function.<locals>.<lambda> at 0x00000134512753F0>\n"
     ]
    }
   ],
   "source": [
    "print(modular_function(4))"
   ]
  },
  {
   "cell_type": "code",
   "execution_count": null,
   "metadata": {},
   "outputs": [],
   "source": [
    "def repeater(n):\n",
    "    return lambda x: x * n\n",
    "    \n",
    "repeat_2_times = repeater(2)  # repeats 2 times\n",
    "repeat_3_times = repeater(3)  # repeats 3 times\n",
    "repeat_4_times = repeater(4)  # repeats 4 times\n",
    "\n",
    "print(repeat_2_times('alex '))\n",
    "print(repeat_3_times('lara '))\n",
    "print(repeat_4_times('linda '))"
   ]
  },
  {
   "cell_type": "code",
   "execution_count": 95,
   "metadata": {},
   "outputs": [
    {
     "name": "stdout",
     "output_type": "stream",
     "text": [
      "😀\n",
      "😆\n",
      "🤣\n"
     ]
    }
   ],
   "source": [
    "print(\"\\U0001f600\")\n",
    "print(\"\\U0001F606\")\n",
    "print(\"\\U0001F923\")\n"
   ]
  },
  {
   "cell_type": "code",
   "execution_count": 97,
   "metadata": {},
   "outputs": [
    {
     "name": "stdout",
     "output_type": "stream",
     "text": [
      "😃\n",
      "😜\n",
      "🤐\n"
     ]
    }
   ],
   "source": [
    "import emoji\n",
    " \n",
    " \n",
    "print(emoji.emojize(\":grinning_face_with_big_eyes:\"))\n",
    "print(emoji.emojize(\":winking_face_with_tongue:\"))\n",
    "print(emoji.emojize(\":zipper-mouth_face:\"))"
   ]
  },
  {
   "cell_type": "code",
   "execution_count": 11,
   "metadata": {},
   "outputs": [
    {
     "name": "stdout",
     "output_type": "stream",
     "text": [
      "x is 2\n",
      "Changed local x to 2\n",
      "x is now 2\n"
     ]
    }
   ],
   "source": [
    "x = 50\n",
    "def func(x):\n",
    "    x=2\n",
    "    print('x is', x)\n",
    "    \n",
    "    print('Changed local x to', x)\n",
    "    return x\n",
    "\n",
    "print('x is now', func(x))\n"
   ]
  },
  {
   "cell_type": "code",
   "execution_count": null,
   "metadata": {},
   "outputs": [],
   "source": []
  },
  {
   "cell_type": "code",
   "execution_count": 2,
   "metadata": {},
   "outputs": [
    {
     "name": "stdout",
     "output_type": "stream",
     "text": [
      "x is now 50\n"
     ]
    }
   ],
   "source": [
    "x = 50\n",
    "def func(x):\n",
    " print('x is', x)\n",
    " x = func(2)\n",
    " print('Changed local x to', x)\n",
    "\n",
    "print('x is now', x)\n"
   ]
  },
  {
   "cell_type": "code",
   "execution_count": 3,
   "metadata": {},
   "outputs": [
    {
     "name": "stdout",
     "output_type": "stream",
     "text": [
      "5  7\n",
      "3   9\n",
      "10  12\n",
      "3   9\n"
     ]
    }
   ],
   "source": [
    "def function1(var1=5, var2=7):\n",
    "    print(var1,\"\",var2)\n",
    "    var2=9\n",
    "    var1=3\n",
    "    print (var1, \" \", var2)\n",
    "function1()\n",
    "function1(10,12)"
   ]
  },
  {
   "cell_type": "code",
   "execution_count": 4,
   "metadata": {},
   "outputs": [
    {
     "ename": "ValueError",
     "evalue": "invalid literal for int() with base 10: ''",
     "output_type": "error",
     "traceback": [
      "\u001b[1;31m---------------------------------------------------------------------------\u001b[0m",
      "\u001b[1;31mValueError\u001b[0m                                Traceback (most recent call last)",
      "\u001b[1;32mc:\\Users\\emret\\Desktop\\Code notes\\Python_Pree-classs\\Lessons\\Lambda-Functions.ipynb Cell 1'\u001b[0m in \u001b[0;36m<cell line: 1>\u001b[1;34m()\u001b[0m\n\u001b[1;32m----> <a href='vscode-notebook-cell:/c%3A/Users/emret/Desktop/Code%20notes/Python_Pree-classs/Lessons/Lambda-Functions.ipynb#ch0000000?line=0'>1</a>\u001b[0m factoriyel\u001b[39m=\u001b[39m\u001b[39mint\u001b[39;49m(\u001b[39minput\u001b[39;49m(\u001b[39m'\u001b[39;49m\u001b[39mbir sayı giriniz : \u001b[39;49m\u001b[39m'\u001b[39;49m))\n\u001b[0;32m      <a href='vscode-notebook-cell:/c%3A/Users/emret/Desktop/Code%20notes/Python_Pree-classs/Lessons/Lambda-Functions.ipynb#ch0000000?line=2'>3</a>\u001b[0m sonuc\u001b[39m=\u001b[39m\u001b[39m1\u001b[39m\n\u001b[0;32m      <a href='vscode-notebook-cell:/c%3A/Users/emret/Desktop/Code%20notes/Python_Pree-classs/Lessons/Lambda-Functions.ipynb#ch0000000?line=3'>4</a>\u001b[0m \u001b[39mif\u001b[39;00m factoriyel\u001b[39m==\u001b[39m\u001b[39m0\u001b[39m:\n",
      "\u001b[1;31mValueError\u001b[0m: invalid literal for int() with base 10: ''"
     ]
    }
   ],
   "source": [
    "factoriyel=int(input('bir sayı giriniz : '))\n",
    "\n",
    "sonuc=1\n",
    "if factoriyel==0:\n",
    "    sonuc=1\n",
    "else:\n",
    "    for i in range(1,factoriyel+1):\n",
    "        sonuc=sonuc*i\n",
    "\n",
    "print(factoriyel,'!=',sonuc)"
   ]
  },
  {
   "cell_type": "code",
   "execution_count": 6,
   "metadata": {},
   "outputs": [],
   "source": [
    "def functioner(param):\n",
    "    return lambda message : print(message, emoji)\n",
    "üzgün_yüz = functioner(\":((\")"
   ]
  },
  {
   "cell_type": "code",
   "execution_count": null,
   "metadata": {},
   "outputs": [],
   "source": [
    "üzgün_yüz(199)"
   ]
  },
  {
   "cell_type": "code",
   "execution_count": 21,
   "metadata": {},
   "outputs": [],
   "source": [
    "def fnkprint(fonk):\n",
    "    return lambda x: fonk(x)"
   ]
  },
  {
   "cell_type": "code",
   "execution_count": 15,
   "metadata": {},
   "outputs": [
    {
     "data": {
      "text/plain": [
       "6"
      ]
     },
     "execution_count": 15,
     "metadata": {},
     "output_type": "execute_result"
    }
   ],
   "source": [
    "(lambda x : max(x))([2,3,4,5,6])"
   ]
  },
  {
   "cell_type": "code",
   "execution_count": 20,
   "metadata": {},
   "outputs": [
    {
     "data": {
      "text/plain": [
       "[1, 2, 3, 4, 5, 6, 7]"
      ]
     },
     "execution_count": 20,
     "metadata": {},
     "output_type": "execute_result"
    }
   ],
   "source": [
    "(lambda x : sorted(x))([2,3,7,4,1,5,6])"
   ]
  },
  {
   "cell_type": "code",
   "execution_count": null,
   "metadata": {},
   "outputs": [],
   "source": [
    "(lambda x : print(x))(\"ali\",\"veli\",\"deli\")"
   ]
  },
  {
   "cell_type": "code",
   "execution_count": 29,
   "metadata": {},
   "outputs": [],
   "source": [
    "edwin_bool=fnkprint(bool)"
   ]
  },
  {
   "cell_type": "code",
   "execution_count": 30,
   "metadata": {},
   "outputs": [
    {
     "data": {
      "text/plain": [
       "True"
      ]
     },
     "execution_count": 30,
     "metadata": {},
     "output_type": "execute_result"
    }
   ],
   "source": [
    "edwin_bool(1)"
   ]
  },
  {
   "cell_type": "code",
   "execution_count": 36,
   "metadata": {},
   "outputs": [
    {
     "data": {
      "text/plain": [
       "2"
      ]
     },
     "execution_count": 36,
     "metadata": {},
     "output_type": "execute_result"
    }
   ],
   "source": [
    "num=[2,3,4,5,6,7,8,1,2,3,54,56,1,2,3,4,5,6,1,2,3,5,7]\n",
    "max(num, key = num.count)"
   ]
  },
  {
   "cell_type": "code",
   "execution_count": 37,
   "metadata": {},
   "outputs": [
    {
     "data": {
      "text/plain": [
       "4"
      ]
     },
     "execution_count": 37,
     "metadata": {},
     "output_type": "execute_result"
    }
   ],
   "source": [
    "num.count(max(num, key = num.count))"
   ]
  },
  {
   "cell_type": "code",
   "execution_count": 40,
   "metadata": {},
   "outputs": [],
   "source": [
    "def liste(x):\n",
    "    return max(set(list_x), key=lambda item: list_x.count(item))"
   ]
  },
  {
   "cell_type": "code",
   "execution_count": null,
   "metadata": {},
   "outputs": [],
   "source": [
    "y=[2,3,4,5,6,7,8,1,2,3,54,56,1,2,3,4,5,6,1,2,3,5,7]\n",
    "liste(y)"
   ]
  },
  {
   "cell_type": "code",
   "execution_count": null,
   "metadata": {},
   "outputs": [],
   "source": [
    "def equal(a,b,c):\n",
    "    num=[a,b,c]\n",
    "    if  num.count(max(num, key = num.count)) < 2:\n",
    "        return 0\n",
    "    else:\n",
    "        return num.count(max(num, key = num.count))\n",
    "print(equal(1,2,3))\n",
    "print(equal(1,3,3))\n",
    "print(equal(4,3,3))"
   ]
  },
  {
   "cell_type": "code",
   "execution_count": 57,
   "metadata": {},
   "outputs": [],
   "source": [
    "def equal_(*arg):\n",
    "    num = list(arg)\n",
    "    sonuç=num.count(max(num, key = num.count))\n",
    "    \n",
    "    if sonuç > 1:\n",
    "        return sonuç\n",
    "    else :\n",
    "        return 0\n",
    "    "
   ]
  },
  {
   "cell_type": "code",
   "execution_count": 58,
   "metadata": {},
   "outputs": [
    {
     "data": {
      "text/plain": [
       "2"
      ]
     },
     "execution_count": 58,
     "metadata": {},
     "output_type": "execute_result"
    }
   ],
   "source": [
    "equal_(1,1,2,3,4,5,6,7)"
   ]
  },
  {
   "cell_type": "code",
   "execution_count": 85,
   "metadata": {},
   "outputs": [],
   "source": [
    "equallambda = lambda x,y,z : [x,y,z].count(max([x,y,z], key = [x,y,z].count))\\\n",
    "if ([x,y,z].count(max([x,y,z], key = [x,y,z].count))) > 1 else 0\n",
    "        "
   ]
  },
  {
   "cell_type": "code",
   "execution_count": 86,
   "metadata": {},
   "outputs": [
    {
     "data": {
      "text/plain": [
       "2"
      ]
     },
     "execution_count": 86,
     "metadata": {},
     "output_type": "execute_result"
    }
   ],
   "source": [
    "equallambda(1,4,4)"
   ]
  },
  {
   "cell_type": "code",
   "execution_count": 87,
   "metadata": {},
   "outputs": [],
   "source": [
    "equallambda = lambda *arg : arg.count(max(arg, key = arg.count))\\\n",
    "if (arg.count(max(arg, key = arg.count))) > 1 else 0"
   ]
  },
  {
   "cell_type": "code",
   "execution_count": 88,
   "metadata": {},
   "outputs": [
    {
     "data": {
      "text/plain": [
       "5"
      ]
     },
     "execution_count": 88,
     "metadata": {},
     "output_type": "execute_result"
    }
   ],
   "source": [
    "equallambda(1,1,1,1,1,2,3,4,5,6,7,8)"
   ]
  },
  {
   "cell_type": "code",
   "execution_count": null,
   "metadata": {},
   "outputs": [],
   "source": []
  }
 ],
 "metadata": {
  "kernelspec": {
   "display_name": "Python 3.10.5 64-bit",
   "language": "python",
   "name": "python3"
  },
  "language_info": {
   "codemirror_mode": {
    "name": "ipython",
    "version": 3
   },
   "file_extension": ".py",
   "mimetype": "text/x-python",
   "name": "python",
   "nbconvert_exporter": "python",
   "pygments_lexer": "ipython3",
   "version": "3.10.5"
  },
  "orig_nbformat": 4,
  "vscode": {
   "interpreter": {
    "hash": "39344b1b46d83f8c777437ec0c18c469cc5a98931f86e6b3d5b74c23738b46c6"
   }
  }
 },
 "nbformat": 4,
 "nbformat_minor": 2
}
